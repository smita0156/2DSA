{
 "cells": [
  {
   "cell_type": "code",
   "execution_count": null,
   "id": "d470c103-78fd-4860-8e23-7670610e40ed",
   "metadata": {},
   "outputs": [],
   "source": [
    "# 1. Given an integer array nums of 2n integers, group these integers i"
   ]
  },
  {
   "cell_type": "code",
   "execution_count": null,
   "id": "f1428533-26ed-4eb2-a7c9-2c09ae791c96",
   "metadata": {},
   "outputs": [],
   "source": [
    "class Solution(object):\n",
    "    def arrayPairSum(self, nums):\n",
    "        \"\"\"\n",
    "        :type nums: List[int]\n",
    "        :rtype: int\n",
    "        \"\"\"\n",
    "        nums.sort()\n",
    "        result = 0\n",
    "        numsLen = len(nums)\n",
    "        for i in range(0, numsLen - 1, 2):\n",
    "            result += nums[i]\n",
    "        return result"
   ]
  },
  {
   "cell_type": "code",
   "execution_count": null,
   "id": "58b9059b-83a8-4632-9918-afb5928110dd",
   "metadata": {},
   "outputs": [],
   "source": [
    "# Time Complexity: O(NlogN), N is length of the input array and Space Complexity: O(1)"
   ]
  },
  {
   "cell_type": "code",
   "execution_count": null,
   "id": "b63b5e31-5790-489c-afd2-0e6c9f1ed19f",
   "metadata": {},
   "outputs": [],
   "source": [
    "# 2. Alice has n candies, where the ith candy is of type candyType"
   ]
  },
  {
   "cell_type": "code",
   "execution_count": null,
   "id": "abd47a25-b776-4d21-8827-4a6a21c10d41",
   "metadata": {},
   "outputs": [],
   "source": [
    "def distributeCandies(self, candyType: List[int]) -> int:\n",
    "        n=len(candyType)\n",
    "        l=set(candyType)\n",
    "        if len(l)==n//2:\n",
    "            return len(l)\n",
    "        elif len(l)>n//2:\n",
    "            return n//2\n",
    "        else:\n",
    "            return len(l)"
   ]
  },
  {
   "cell_type": "code",
   "execution_count": null,
   "id": "fa7ffef7-3e4b-4bca-8181-9442c5020fe8",
   "metadata": {},
   "outputs": [],
   "source": [
    "# 3. We define a harmonious array as an array where the difference between "
   ]
  },
  {
   "cell_type": "code",
   "execution_count": null,
   "id": "2d002fed-0018-4de8-9b1d-de69c815608c",
   "metadata": {},
   "outputs": [],
   "source": [
    "class Solution:\n",
    "    def findLHS(self, nums: List[int]) -> int:\n",
    "        freq = Counter(nums)\n",
    "        max_length = 0\n",
    "        \n",
    "        for key in freq:\n",
    "            if key + 1 in freq:\n",
    "                max_length = max(max_length, freq[key] + freq[key+1])\n",
    "                \n",
    "        return max_length"
   ]
  },
  {
   "cell_type": "code",
   "execution_count": null,
   "id": "51d53439-307e-4530-bf4c-c9e2ab1a87f2",
   "metadata": {},
   "outputs": [],
   "source": [
    "# 4. You have a long flowerbed in which some of the plots are planted, "
   ]
  },
  {
   "cell_type": "code",
   "execution_count": null,
   "id": "3e28cc36-e1d0-482d-bfdc-ae3295fe3dc9",
   "metadata": {},
   "outputs": [],
   "source": [
    "class Solution:\n",
    "    def canPlaceFlowers(self, flowerbed: List[int], n: int) -> bool:\n",
    "        if n == 0:\n",
    "            return True\n",
    "        for i in range(len(flowerbed)):\n",
    "            if flowerbed[i] == 0 and (i == 0 or flowerbed[i-1] == 0) and (i == len(flowerbed)-1 or flowerbed[i+1] == 0):\n",
    "                flowerbed[i] = 1\n",
    "                n -= 1\n",
    "                if n == 0:\n",
    "                    return True\n",
    "        return False"
   ]
  },
  {
   "cell_type": "code",
   "execution_count": null,
   "id": "f129411c-3c63-4216-9d91-08d36f03fa54",
   "metadata": {},
   "outputs": [],
   "source": [
    "# 5. Given an integer array nums, find three numbers "
   ]
  },
  {
   "cell_type": "code",
   "execution_count": null,
   "id": "2c363b57-9b72-4e21-845e-ae2f3fc68858",
   "metadata": {},
   "outputs": [],
   "source": [
    "class Solution:\n",
    "    def maximumProduct(self, vec: List[int]) -> int:\n",
    "        if len(vec) == 3:\n",
    "            return vec[0] * vec[1] * vec[2]\n",
    "        max1 = max2 = max3 = -1000 \n",
    "        min1 = min2 = 1000\n",
    "        for i in vec:\n",
    "            if i > max1:\n",
    "                max3 = max2\n",
    "                max2 = max1\n",
    "                max1 = i\n",
    "            elif i > max2:\n",
    "                max3 = max2\n",
    "                max2 = i\n",
    "            elif i > max3:\n",
    "                max3 = i\n",
    "            if i < min1:\n",
    "                min2 = min1\n",
    "                min1 = i\n",
    "            elif i < min2:\n",
    "                min2 = i\n",
    "        return max(max1 * max2 * max3, min1 * min2 * max1)"
   ]
  },
  {
   "cell_type": "code",
   "execution_count": null,
   "id": "8a98236e-3741-4d2b-8264-c0e60a07f6db",
   "metadata": {},
   "outputs": [],
   "source": [
    "# 6.Given an array of integers nums which is sorted in ascending order,"
   ]
  },
  {
   "cell_type": "code",
   "execution_count": null,
   "id": "c616734f-e6b9-478a-b84f-ded61ab3b476",
   "metadata": {},
   "outputs": [],
   "source": [
    "class Solution:\n",
    "    def search(self, nums: List[int], target: int) -> int:\n",
    "        left = 0\n",
    "        right = len(nums) - 1\n",
    "        if len(nums) == 1 and nums[0] == target:\n",
    "            return 0\n",
    "        \n",
    "        while left <= right:\n",
    "            mid = (left + right)//2\n",
    "        \n",
    "            if nums[mid] == target:\n",
    "                return mid\n",
    "        \n",
    "            elif nums[mid] > target:\n",
    "                right = mid - 1\n",
    "        \n",
    "            else:\n",
    "                left = mid + 1\n",
    "        \n",
    "        return -1"
   ]
  },
  {
   "cell_type": "code",
   "execution_count": null,
   "id": "e07f1d14-a3e4-4146-a83d-fb64f38867a9",
   "metadata": {},
   "outputs": [],
   "source": [
    "# 7. An array is monotonic if it is either monotone increasing or monotone decreasing."
   ]
  },
  {
   "cell_type": "code",
   "execution_count": null,
   "id": "aa9710b7-cb18-45fd-b720-fd862edbdaf9",
   "metadata": {},
   "outputs": [],
   "source": [
    "class Solution:\n",
    "    def isMonotonic(self, nums: List[int]) -> bool:\n",
    "       inc = True\n",
    "       dec = True\n",
    "       for i in range(1,len(nums)):\n",
    "           inc = inc and nums[i-1] >= nums[i]\n",
    "           dec = dec and nums[i-1] <= nums[i]\n",
    "       return inc or dec\n"
   ]
  },
  {
   "cell_type": "code",
   "execution_count": null,
   "id": "f455ea02-fc59-42c3-802f-f7824fd1ec25",
   "metadata": {},
   "outputs": [],
   "source": [
    "#8. You are given an integer array nums and an integer k.\n"
   ]
  },
  {
   "cell_type": "code",
   "execution_count": null,
   "id": "26b114f5-9a11-49ad-97a9-f897927626e7",
   "metadata": {},
   "outputs": [],
   "source": [
    "class Solution:\n",
    "    def smallestRangeI(self, A: List[int], K: int) -> int:\n",
    "\n",
    "        M, m = max(A), min(A)\n",
    "        diff, extension = M - m, 2*K\n",
    "        \n",
    "        if diff <= extension:\n",
    "            return 0\n",
    "        \n",
    "        else:\n",
    "            return diff - extension"
   ]
  }
 ],
 "metadata": {
  "kernelspec": {
   "display_name": "Python 3 (ipykernel)",
   "language": "python",
   "name": "python3"
  },
  "language_info": {
   "codemirror_mode": {
    "name": "ipython",
    "version": 3
   },
   "file_extension": ".py",
   "mimetype": "text/x-python",
   "name": "python",
   "nbconvert_exporter": "python",
   "pygments_lexer": "ipython3",
   "version": "3.10.6"
  }
 },
 "nbformat": 4,
 "nbformat_minor": 5
}
